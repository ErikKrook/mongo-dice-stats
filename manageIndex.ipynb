{
 "cells": [
  {
   "cell_type": "code",
   "execution_count": 3,
   "id": "82e59cd4",
   "metadata": {},
   "outputs": [
    {
     "name": "stdout",
     "output_type": "stream",
     "text": [
      "Pinged your deployment. You successfully connected to MongoDB!\n"
     ]
    }
   ],
   "source": [
    "from pymongo import MongoClient\n",
    "import os \n",
    "from dotenv import load_dotenv \n",
    "\n",
    "load_dotenv()  # loads the .env file\n",
    "\n",
    "mongo_uri = os.getenv(\"MONGO_URI\")\n",
    "\n",
    "# Create a new client and connect to the server\n",
    "client = MongoClient(mongo_uri)\n",
    "\n",
    "db = client[\"dice_analytics\"]\n",
    "collection = db[\"all_rolls\"]\n",
    "\n",
    "# Send a ping to confirm a successful connection\n",
    "try:\n",
    "    client.admin.command('ping')\n",
    "    print(\"Pinged your deployment. You successfully connected to MongoDB!\")\n",
    "except Exception as e:\n",
    "    print(e)\n",
    "\n"
   ]
  },
  {
   "cell_type": "markdown",
   "id": "e152ff49",
   "metadata": {},
   "source": [
    "## Using a Primary Key to Ensure Idempotency in MongoDB\n",
    "\n",
    "To make this script **idempotent**, we define a **primary key** using MongoDB’s indexing system.\n",
    "\n",
    "In this context, *idempotency* means that running the script multiple times will not create duplicate entries or lead to inconsistent data. This is especially important when inserting documents into a collection, as re-running the same script could otherwise insert the same data multiple times.\n",
    "\n",
    "We achieve this by creating a **unique index** on the `primary_key` field:"
   ]
  },
  {
   "cell_type": "code",
   "execution_count": 1,
   "id": "dd4a6a80",
   "metadata": {},
   "outputs": [
    {
     "ename": "NameError",
     "evalue": "name 'collection' is not defined",
     "output_type": "error",
     "traceback": [
      "\u001b[1;31m---------------------------------------------------------------------------\u001b[0m",
      "\u001b[1;31mNameError\u001b[0m                                 Traceback (most recent call last)",
      "Cell \u001b[1;32mIn[1], line 2\u001b[0m\n\u001b[0;32m      1\u001b[0m \u001b[38;5;66;03m# Get and print all indexes\u001b[39;00m\n\u001b[1;32m----> 2\u001b[0m \u001b[38;5;28;01mfor\u001b[39;00m index \u001b[38;5;129;01min\u001b[39;00m \u001b[43mcollection\u001b[49m\u001b[38;5;241m.\u001b[39mlist_indexes():\n\u001b[0;32m      3\u001b[0m     \u001b[38;5;28mprint\u001b[39m(index)\n",
      "\u001b[1;31mNameError\u001b[0m: name 'collection' is not defined"
     ]
    }
   ],
   "source": [
    "# Get and print all indexes\n",
    "for index in collection.list_indexes():\n",
    "    print(index)"
   ]
  },
  {
   "cell_type": "code",
   "execution_count": null,
   "id": "1d5ff321",
   "metadata": {},
   "outputs": [
    {
     "data": {
      "text/plain": [
       "'primary_key_1'"
      ]
     },
     "execution_count": 5,
     "metadata": {},
     "output_type": "execute_result"
    }
   ],
   "source": [
    "collection.create_index(\"primary_key\", unique=True)\n"
   ]
  }
 ],
 "metadata": {
  "kernelspec": {
   "display_name": "venv",
   "language": "python",
   "name": "python3"
  },
  "language_info": {
   "codemirror_mode": {
    "name": "ipython",
    "version": 3
   },
   "file_extension": ".py",
   "mimetype": "text/x-python",
   "name": "python",
   "nbconvert_exporter": "python",
   "pygments_lexer": "ipython3",
   "version": "3.10.11"
  }
 },
 "nbformat": 4,
 "nbformat_minor": 5
}
